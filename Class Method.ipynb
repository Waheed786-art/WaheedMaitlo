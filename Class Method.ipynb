{
 "cells": [
  {
   "cell_type": "code",
   "execution_count": 1,
   "metadata": {},
   "outputs": [
    {
     "name": "stdout",
     "output_type": "stream",
     "text": [
      "The name is Waheed and the name of the company in which he works is Tesla\n",
      "Tesla\n"
     ]
    }
   ],
   "source": [
    "class Employee:\n",
    "    company = \"Microsoft\"   # Class Variable\n",
    "    def details(self):\n",
    "        print(f\"The name is {self.name} and the name of the company in which he works is {self.company}\")\n",
    "        \n",
    "    @classmethod  # This method changes the name of the company(Class Variable) without any error.\n",
    "    def change_company(cls , new_company):\n",
    "        cls.company = new_company\n",
    "        \n",
    "e1 = Employee()\n",
    "e1.name = \"Waheed\"\n",
    "e1.change_company(\"Tesla\")  # Tesla is a instance variable and after using ClassMethod(decorator/property) , Tesla becomes class(Employee) means through classmethod we can change the Class Variables as well as Class itself.\n",
    "e1.details()\n",
    "print(Employee.company)"
   ]
  },
  {
   "cell_type": "markdown",
   "metadata": {},
   "source": [
    "Python Class Methods: An Introduction\n",
    "In Python, classes are a way to define custom data types that can store data and define functions that can manipulate that data. One type of function that can be defined within a class is called a \"method.\" In this blog post, we will explore what Python class methods are, why they are useful, and how to use them.\n",
    "\n",
    "What are Python Class Methods?\n",
    "A class method is a type of method that is bound to the class and not the instance of the class. In other words, it operates on the class as a whole, rather than on a specific instance of the class. Class methods are defined using the \"@classmethod\" decorator, followed by a function definition. The first argument of the function is always \"cls,\" which represents the class itself.\n",
    "\n",
    "Why Use Python Class Methods?\n",
    "Class methods are useful in several situations. For example, you might want to create a factory method that creates instances of your class in a specific way. You could define a class method that creates the instance and returns it to the caller. Another common use case is to provide alternative constructors for your class. This can be useful if you want to create instances of your class in multiple ways, but still have a consistent interface for doing so.\n",
    "\n",
    "How to Use Python Class Methods\n",
    "To define a class method, you simply use the \"@classmethod\" decorator before the method definition. The first argument of the method should always be \"cls,\" which represents the class itself. Here is an example of how to define a class method:\n",
    "\n",
    "class ExampleClass:\n",
    "    @classmethod\n",
    "    def factory_method(cls, argument1, argument2):\n",
    "        return cls(argument1, argument2)\n",
    "\n",
    "In this example, the \"factory_method\" is a class method that takes two arguments, \"argument1\" and \"argument2.\" It creates a new instance of the class \"ExampleClass\" using the \"cls\" keyword, and returns the new instance to the caller.\n",
    "\n",
    "It's important to note that class methods cannot modify the class in any way. If you need to modify the class, you should use a class level variable instead.\n",
    "\n",
    "Conclusion\n",
    "Python class methods are a powerful tool for defining functions that operate on the class as a whole, rather than on a specific instance of the class. They are useful for creating factory methods, alternative constructors, and other types of methods that operate at the class level. With the knowledge of how to define and use class methods, you can start writing more complex and organized code in Python."
   ]
  }
 ],
 "metadata": {
  "kernelspec": {
   "display_name": "Python 3",
   "language": "python",
   "name": "python3"
  },
  "language_info": {
   "codemirror_mode": {
    "name": "ipython",
    "version": 3
   },
   "file_extension": ".py",
   "mimetype": "text/x-python",
   "name": "python",
   "nbconvert_exporter": "python",
   "pygments_lexer": "ipython3",
   "version": "3.11.4"
  },
  "orig_nbformat": 4
 },
 "nbformat": 4,
 "nbformat_minor": 2
}
