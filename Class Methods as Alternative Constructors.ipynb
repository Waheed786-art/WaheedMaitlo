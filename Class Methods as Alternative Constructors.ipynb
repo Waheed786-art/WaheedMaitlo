{
 "cells": [
  {
   "cell_type": "code",
   "execution_count": 2,
   "metadata": {},
   "outputs": [
    {
     "name": "stdout",
     "output_type": "stream",
     "text": [
      "Waheed\n",
      "12000\n",
      "The name of the employee is Sajid and his salary is 15000\n",
      "The name is Naveed and he is SSP \n",
      "The name is Sajid and he is Constable \n"
     ]
    }
   ],
   "source": [
    "class Employee:\n",
    "    def __init__(self,name , salary):\n",
    "        self.name = name\n",
    "        self.salary = salary\n",
    "    @classmethod       # Class method as an alternative constructor.\n",
    "    def from_str(cls , string):\n",
    "        return cls(string.split(\"-\")[0] , int(string.split(\"-\")[1]))\n",
    "        \n",
    "a1 = Employee(\"Waheed\" , \"12000\")\n",
    "print(a1.name)\n",
    "print(a1.salary)\n",
    "  # Instead of using this method.\n",
    "# string = \"Sajid-20000\"\n",
    "# a2 = Employee(string.split(\"-\")[0] , string.split(\"-\")[1])\n",
    "# print(a2.name)\n",
    "# print(a2.salary)\n",
    "\n",
    "string = \"Sajid-15000\"\n",
    "a2 = Employee.from_str(string)\n",
    "print(f\"The name of the employee is {a2.name} and his salary is {a2.salary}\")\n",
    "\n",
    "class officer:\n",
    "    def __init__(self, name , post):\n",
    "      self.name = name \n",
    "      self.post = post\n",
    "    @classmethod\n",
    "    def st1(cls , new_one):\n",
    "      return cls(new_one.split(\" \")[0] ,new_one.split(\" \")[1])\n",
    "new_one = \"Naveed SSP\"  \n",
    "e1 = officer.st1(new_one)\n",
    "print(f\"The name is {e1.name} and he is {e1.post} \")\n",
    "\n",
    "new_two = \"Sajid Constable\"\n",
    "e2 = officer.st1(new_two)\n",
    "print(f\"The name is {e2.name} and he is {e2.post} \")"
   ]
  },
  {
   "cell_type": "markdown",
   "metadata": {},
   "source": [
    "Class Methods as Alternative Constructors\n",
    "In object-oriented programming, the term \"constructor\" refers to a special type of method that is automatically executed when an object is created from a class. The purpose of a constructor is to initialize the object's attributes, allowing the object to be fully functional and ready to use.\n",
    "\n",
    "However, there are times when you may want to create an object in a different way, or with different initial values, than what is provided by the default constructor. This is where class methods can be used as alternative constructors.\n",
    "\n",
    "A class method belongs to the class rather than to an instance of the class. One common use case for class methods as alternative constructors is when you want to create an object from data that is stored in a different format, such as a string or a dictionary. For example, consider a class named \"Person\" that has two attributes: \"name\" and \"age\". The default constructor for the class might look like this:\n",
    "\n",
    "class Person:\n",
    "    def __init__(self, name, age):\n",
    "        self.name = name\n",
    "        self.age = age\n",
    "\n",
    "But what if you want to create a Person object from a string that contains the person's name and age, separated by a comma? You can define a class method named \"from_string\" to do this:\n",
    "\n",
    "class Person:\n",
    "    def __init__(self, name, age):\n",
    "        self.name = name\n",
    "        self.age = age\n",
    "    @classmethod\n",
    "    def from_string(cls, string):\n",
    "        name, age = string.split(',')\n",
    "        return cls(name, int(age))\n",
    "\n",
    "Now you can create a Person object from a string like this:\n",
    "\n",
    "person = Person.from_string(\"John Doe, 30\")\n",
    "\n",
    "Another common use case for class methods as alternative constructors is when you want to create an object with a different set of default values than what is provided by the default constructor. For example, consider a class named \"Rectangle\" that has two attributes: \"width\" and \"height\". The default constructor for the class might look like this:\n",
    "\n",
    "class Rectangle:\n",
    "    def __init__(self, width, height):\n",
    "        self.width = width\n",
    "        self.height = height\n",
    "\n",
    "But what if you want to create a Rectangle object with a default width of 10 and a default height of 5? You can define a class method named \"square\" to do this:\n",
    "\n",
    "class Rectangle:\n",
    "  def __init__(self, width, height):\n",
    "    self.width = width\n",
    "    self.height = height\n",
    "  @classmethod\n",
    "  def square(cls, size):\n",
    "    return cls(size, size)\n",
    "\n",
    "Now you can create a square rectangle like this:\n",
    "\n",
    "rectangle = Rectangle.square(10)"
   ]
  }
 ],
 "metadata": {
  "kernelspec": {
   "display_name": "Python 3",
   "language": "python",
   "name": "python3"
  },
  "language_info": {
   "codemirror_mode": {
    "name": "ipython",
    "version": 3
   },
   "file_extension": ".py",
   "mimetype": "text/x-python",
   "name": "python",
   "nbconvert_exporter": "python",
   "pygments_lexer": "ipython3",
   "version": "3.11.4"
  },
  "orig_nbformat": 4
 },
 "nbformat": 4,
 "nbformat_minor": 2
}
