{
 "cells": [
  {
   "cell_type": "code",
   "execution_count": 19,
   "metadata": {},
   "outputs": [
    {
     "name": "stdout",
     "output_type": "stream",
     "text": [
      "The library contains 5 books in which ['To kill a mockingbird', 'Python crash course by Eric Mathews', 'The Secret of Success', 'Illustrated Science'] are also included.\n",
      "['To kill a mockingbird', 'Python crash course by Eric Mathews', 'The Secret of Success', 'Illustrated Science']\n",
      "The total books are 5 in which ['To kill a mockingbird', 'Python crash course by Eric Mathews', 'The Secret of Success', 'Illustrated Science'] are included.\n",
      "The library has 2 books and their names are: \n",
      "The Secret of Success\n",
      "Python Crash Course\n"
     ]
    }
   ],
   "source": [
    "class Library:\n",
    "    def __init__(self , len_of_books , books):\n",
    "        self.len_of_books = len_of_books\n",
    "        self.books = list(books)\n",
    "\n",
    "    \n",
    "class library(Library):\n",
    "    def lib(self):\n",
    "        print(f\"The library contains {self.len_of_books} books in which {self.books} are also included.\")\n",
    "    \n",
    "\n",
    "a = library(5 , [\"To kill a mockingbird\" , \"Python crash course by Eric Mathews\" , \"The Secret of Success\"])\n",
    "a.books.append(\"Illustrated Science\")\n",
    "a.lib()\n",
    "print(a.books) # Printing All books\n",
    "print(f\"The total books are {a.len_of_books} in which {a.books} are included.\")  # printing length of books\n",
    "\n",
    "\n",
    "#2nd Method\n",
    "class Library:\n",
    "    def __init__(self):\n",
    "        self.len_of_books = 0\n",
    "        self.books = []\n",
    "    def addbooks(self , book):\n",
    "        self.books.append(book)\n",
    "        self.len_of_books = len(self.books)\n",
    "    def show_details(self):\n",
    "        print(f\"The library has {self.len_of_books} books and their names are: \")\n",
    "        for book in self.books:\n",
    "            print(f\"{book}\")\n",
    "\n",
    "            \n",
    "        \n",
    "\n",
    "new = Library()\n",
    "new.addbooks(\"The Secret of Success\")\n",
    "new.addbooks(\"Python Crash Course\")\n",
    "new.show_details()"
   ]
  },
  {
   "cell_type": "markdown",
   "metadata": {},
   "source": [
    "Write a Library class with len_of_books(integer) and books(must be list) as two instance variables. Write a program to create a library from this Library class and show how you can print all books, add a book and get the number of books using different methods. Show that your program doesnt persist the books after the program is stopped!"
   ]
  }
 ],
 "metadata": {
  "kernelspec": {
   "display_name": "Python 3",
   "language": "python",
   "name": "python3"
  },
  "language_info": {
   "codemirror_mode": {
    "name": "ipython",
    "version": 3
   },
   "file_extension": ".py",
   "mimetype": "text/x-python",
   "name": "python",
   "nbconvert_exporter": "python",
   "pygments_lexer": "ipython3",
   "version": "3.11.4"
  },
  "orig_nbformat": 4
 },
 "nbformat": 4,
 "nbformat_minor": 2
}
