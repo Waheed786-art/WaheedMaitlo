{
 "cells": [
  {
   "cell_type": "code",
   "execution_count": 6,
   "metadata": {},
   "outputs": [],
   "source": [
    "\n",
    "import os\n",
    "files = os.listdir(\"Excercise7\")\n",
    "i = 1\n",
    "for file in files:\n",
    "    if file.endswith(\".txt\"): # only files with \"txt format\" will be used.\n",
    "        os.rename(f\"Excercise7/{file}\", f\"Excercise7/{i}.txt\")\n",
    "        i = i+1\n",
    "        \n",
    "    "
   ]
  },
  {
   "cell_type": "markdown",
   "metadata": {},
   "source": [
    "Write a program to clear the clutter inside a folder on your computer. You should use os module to rename all the png images from 1.png all the way till n.png where n is the number of png files in that folder. Do the same for other file formats. For example:\n",
    "\n",
    "sfdsf.png --> 1.png\n",
    "vfsf.png --> 2.png\n",
    "this.png --> 3.png\n",
    "design.png --> 4.png\n",
    "name.png --> 5.png"
   ]
  }
 ],
 "metadata": {
  "kernelspec": {
   "display_name": "Python 3",
   "language": "python",
   "name": "python3"
  },
  "language_info": {
   "codemirror_mode": {
    "name": "ipython",
    "version": 3
   },
   "file_extension": ".py",
   "mimetype": "text/x-python",
   "name": "python",
   "nbconvert_exporter": "python",
   "pygments_lexer": "ipython3",
   "version": "3.11.4"
  },
  "orig_nbformat": 4
 },
 "nbformat": 4,
 "nbformat_minor": 2
}
