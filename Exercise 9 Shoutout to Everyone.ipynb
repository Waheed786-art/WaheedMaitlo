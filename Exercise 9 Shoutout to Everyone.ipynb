{
 "cells": [
  {
   "cell_type": "code",
   "execution_count": 9,
   "metadata": {},
   "outputs": [],
   "source": [
    "# Text to Speech\n",
    "\n",
    "import win32com.client\n",
    "\n",
    "\n",
    "speaker = win32com.client.Dispatch(\"SAPI.SpVoice\")\n",
    "\n",
    "lt = [\"Ali\" , \"John\" , \"Waheed\" , \"William\"]\n",
    "for i in lt:\n",
    "    speaker.Speak(f\"Shoutout to {i}.\")"
   ]
  },
  {
   "cell_type": "markdown",
   "metadata": {},
   "source": [
    "    Write a program to pronounce list of names using win32 API. If you are given a list l as follows:\n",
    "\n",
    "l = [\"Rahul\", \"Nishant\", \"Harry\"]\n",
    "\n",
    "    Your program should pronouce:\n",
    "\n",
    "Shoutout to Rahul\n",
    "Shoutout to Nishant\n",
    "Shoutout to Harry\n",
    "\n",
    "    Note: If you are not using windows, try to figure out how to do the same thing using some other package"
   ]
  }
 ],
 "metadata": {
  "kernelspec": {
   "display_name": "Python 3",
   "language": "python",
   "name": "python3"
  },
  "language_info": {
   "codemirror_mode": {
    "name": "ipython",
    "version": 3
   },
   "file_extension": ".py",
   "mimetype": "text/x-python",
   "name": "python",
   "nbconvert_exporter": "python",
   "pygments_lexer": "ipython3",
   "version": "3.11.4"
  },
  "orig_nbformat": 4
 },
 "nbformat": 4,
 "nbformat_minor": 2
}
