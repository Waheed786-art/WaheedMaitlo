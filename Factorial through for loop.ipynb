{
 "cells": [
  {
   "cell_type": "code",
   "execution_count": 14,
   "metadata": {},
   "outputs": [
    {
     "name": "stdout",
     "output_type": "stream",
     "text": [
      "The factorial of 5 is 120\n",
      "The factorial of 4 is 24\n"
     ]
    }
   ],
   "source": [
    "# Factorial through for loop\n",
    "# 1st Method\n",
    "n = 5\n",
    "f = 1\n",
    "for i in range(n, 0,-1):\n",
    "    f *= i\n",
    "print(\"The factorial of 5 is\", f)\n",
    "\n",
    "#2nd Method\n",
    "num = 4\n",
    "fac = 1\n",
    "for i in range(1, num+1):\n",
    "    fac = fac*i\n",
    "\n",
    "print(\"The factorial of 4 is\",fac)"
   ]
  }
 ],
 "metadata": {
  "kernelspec": {
   "display_name": "Python 3",
   "language": "python",
   "name": "python3"
  },
  "language_info": {
   "codemirror_mode": {
    "name": "ipython",
    "version": 3
   },
   "file_extension": ".py",
   "mimetype": "text/x-python",
   "name": "python",
   "nbconvert_exporter": "python",
   "pygments_lexer": "ipython3",
   "version": "3.11.4"
  },
  "orig_nbformat": 4
 },
 "nbformat": 4,
 "nbformat_minor": 2
}
