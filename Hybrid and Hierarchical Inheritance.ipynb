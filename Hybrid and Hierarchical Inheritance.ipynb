{
 "cells": [
  {
   "cell_type": "code",
   "execution_count": 7,
   "metadata": {},
   "outputs": [
    {
     "name": "stdout",
     "output_type": "stream",
     "text": [
      "Caste: Amazon\n"
     ]
    }
   ],
   "source": [
    "# Hybrid Inheritance \n",
    "\n",
    "class base_class:\n",
    "   pass\n",
    "class derived1(base_class):\n",
    "   pass\n",
    "class derived2(base_class):\n",
    "    pass\n",
    "class derived3(derived1, derived2):\n",
    "    pass\n",
    "    \n",
    "# Hierarchical Inheritance\n",
    "\n",
    "class BaseClass:\n",
    "    pass\n",
    "\n",
    "class Derived1(BaseClass):    \n",
    "    pass\n",
    "class Derived2 (BaseClass):\n",
    "    pass\n",
    "class Derived3 (Derived1):\n",
    "    pass\n"
   ]
  },
  {
   "cell_type": "markdown",
   "metadata": {},
   "source": [
    "                                                        Hybrid Inheritance in Python\n",
    "Hybrid inheritance is a combination of multiple inheritance and single inheritance in object-oriented programming. It is a type of inheritance in which multiple inheritance is used to inherit the properties of multiple base classes into a single derived class, and single inheritance is used to inherit the properties of the derived class into a sub-derived class.\n",
    "\n",
    "In Python, hybrid inheritance can be implemented by creating a class hierarchy, in which a base class is inherited by multiple derived classes, and one of the derived classes is further inherited by a sub-derived class.\n",
    "\n",
    "\n",
    "                                                        Hierarchical Inheritance\n",
    "Hierarchical Inheritance is a type of inheritance in Object-Oriented Programming where multiple subclasses inherit from a single base class. In other words, a single base class acts as a parent class for multiple subclasses. This is a way of establishing relationships between classes in a hierarchical manner."
   ]
  }
 ],
 "metadata": {
  "kernelspec": {
   "display_name": "Python 3",
   "language": "python",
   "name": "python3"
  },
  "language_info": {
   "codemirror_mode": {
    "name": "ipython",
    "version": 3
   },
   "file_extension": ".py",
   "mimetype": "text/x-python",
   "name": "python",
   "nbconvert_exporter": "python",
   "pygments_lexer": "ipython3",
   "version": "3.11.4"
  },
  "orig_nbformat": 4
 },
 "nbformat": 4,
 "nbformat_minor": 2
}
