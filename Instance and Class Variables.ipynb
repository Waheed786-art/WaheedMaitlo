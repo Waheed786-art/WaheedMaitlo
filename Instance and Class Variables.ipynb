{
 "cells": [
  {
   "cell_type": "code",
   "execution_count": 3,
   "metadata": {},
   "outputs": [
    {
     "name": "stdout",
     "output_type": "stream",
     "text": [
      "The name of the employee is John and the raise amount in 1 sized Apple is 10.\n",
      "The name of the employee is Steve and the raise amount in 2 sized Nestle is 15.\n",
      "Murtaza is currently in XI at School Of Excellence and there are total 50 Students in his Class.\n",
      "Abid is currently in XI at The NEEM Tree and there are total 50 Students in his Class.\n"
     ]
    }
   ],
   "source": [
    "class Employee:\n",
    "    companyName = \"Microsoft\" # this is Class Variable(shared among all instances)\n",
    "    No_of_Employees = 0    \n",
    "    def __init__(self, name):\n",
    "        self.name = name\n",
    "        self.raise_amount = 5\n",
    "        Employee.No_of_Employees += 1\n",
    "    def show_details(self):\n",
    "        print(f\"The name of the employee is {self.name} and the raise amount in {self.No_of_Employees} sized {self.companyName} is {self.raise_amount}.\")\n",
    "        \n",
    "# Employee.show_details(emp1)\n",
    "Employee.companyName = \"Google\"   # We can also Alter/Change Class Variable.\n",
    "emp1 = Employee(\"John\")      # John is Instance Variable here.\n",
    "emp1.raise_amount = 10\n",
    "emp1.companyName = \"Apple\"   \n",
    "emp1.show_details()\n",
    "emp2 = Employee(\"Steve\")\n",
    "emp2.companyName = \"Nestle\"\n",
    "emp2.raise_amount = 15\n",
    "emp2.show_details()\n",
    "\n",
    "\n",
    "class Student:\n",
    "    School = \"School Of Excellence\"\n",
    "    Class = \"XI\"\n",
    "    Students = 50\n",
    "    def __init__(self, name):\n",
    "        self.name = name\n",
    "        self.field = \"Engineering\"\n",
    "    def details(self):\n",
    "        print(f\"{self.name} is currently in {self.Class} at {self.School} and there are total {self.Students} Students in his Class.\")\n",
    "\n",
    "stc = Student(\"Murtaza\")\n",
    "stc.details()\n",
    "stc1 = Student(\"Abid\")\n",
    "stc1.School = \"The NEEM Tree\"\n",
    "stc1.details()\n",
    "\n",
    "        "
   ]
  },
  {
   "cell_type": "markdown",
   "metadata": {},
   "source": [
    "Instance vs class variables\n",
    "In Python, variables can be defined at the class level or at the instance level. Understanding the difference between these types of variables is crucial for writing efficient and maintainable code.\n",
    "\n",
    "Class Variables\n",
    "Class variables are defined at the class level and are shared among all instances of the class. They are defined outside of any method and are usually used to store information that is common to all instances of the class. For example, a class variable can be used to store the number of instances of a class that have been created.\n",
    "\n",
    "class MyClass:\n",
    "    class_variable = 0\n",
    "    \n",
    "    def __init__(self):\n",
    "        MyClass.class_variable += 1\n",
    "        \n",
    "    def print_class_variable(self):\n",
    "        print(MyClass.class_variable)\n",
    "        \n",
    "obj1 = MyClass()\n",
    "obj2 = MyClass()\n",
    "obj1.print_class_variable() # Output: 2\n",
    "obj2.print_class_variable() # Output: 2\n",
    "\n",
    "In the example above, the class_variable is shared among all instances of the class MyClass. When we create new instances of MyClass, the value of class_variable is incremented. When we call the print_class_variable method on obj1 and obj2, we get the same value of class_variable.\n",
    "\n",
    "Instance Variables\n",
    "Instance variables are defined at the instance level and are unique to each instance of the class. They are defined inside the init method and are usually used to store information that is specific to each instance of the class. For example, an instance variable can be used to store the name of an employee in a class that represents an employee.\n",
    "\n",
    "class MyClass:\n",
    "    def __init__(self, name):\n",
    "        self.name = name\n",
    "        \n",
    "    def print_name(self):\n",
    "        print(self.name)\n",
    "obj1 = MyClass(\"John\")\n",
    "obj2 = MyClass(\"Jane\")\n",
    "obj1.print_name() # Output: John\n",
    "obj2.print_name() # Output: Jane\n",
    "\n",
    "In the example above, each instance of the class MyClass has its own value for the name variable. When we call the print_name method on obj1 and obj2, we get different values for name.\n",
    "\n",
    "Summary\n",
    "In summary, class variables are shared among all instances of a class and are used to store information that is common to all instances. Instance variables are unique to each instance of a class and are used to store information that is specific to each instance. Understanding the difference between class variables and instance variables is crucial for writing efficient and maintainable code in Python.\n",
    "\n",
    "It's also worth noting that, in python, class variables are defined outside of any methods and don't need to be explicitly declared as class variable. They are defined in the class level and can be accessed via classname.varibale_name or self.class.variable_name. But instance variables are defined inside the methods and need to be explicitly declared as instance variable by using self.variable_name."
   ]
  }
 ],
 "metadata": {
  "kernelspec": {
   "display_name": "Python 3",
   "language": "python",
   "name": "python3"
  },
  "language_info": {
   "codemirror_mode": {
    "name": "ipython",
    "version": 3
   },
   "file_extension": ".py",
   "mimetype": "text/x-python",
   "name": "python",
   "nbconvert_exporter": "python",
   "pygments_lexer": "ipython3",
   "version": "3.11.4"
  },
  "orig_nbformat": 4
 },
 "nbformat": 4,
 "nbformat_minor": 2
}
