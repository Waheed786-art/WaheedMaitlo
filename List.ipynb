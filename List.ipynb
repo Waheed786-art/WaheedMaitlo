{
 "cells": [
  {
   "cell_type": "code",
   "execution_count": 4,
   "metadata": {},
   "outputs": [
    {
     "name": "stdout",
     "output_type": "stream",
     "text": [
      "Total Marks : 500\n",
      "<class 'list'>\n",
      "In First Monthly he took: 478 Marks\n",
      "In Second Monthly he took: 370 Marks\n",
      "In Third Monthly he took: 435 Marks\n",
      "Harry Potter\n",
      "True\n",
      "[478, 370, 435, 'Harry Potter', True, 8, 34, 5, 6]\n",
      "9\n",
      "[478, 370, 435, 'Harry Potter', True, 8, 34, 5, 6]\n",
      "34\n",
      "Yes\n",
      "Yes! arry is present in Harry\n",
      "[370, 435, 'Harry Potter', True, 8, 34, 5]\n",
      "[370, 'Harry Potter', 8, 5]\n",
      "[0, 1, 2, 3, 4, 5, 6, 7, 8, 9]\n",
      "[0, 4, 16, 36, 64]\n",
      "Civic\n",
      "Mercedes\n",
      "['Civic', 'Mercedes', 'Ferrari', 'Audi']\n",
      "['Beaconhouse', 'Excellence', 'Queen Mary', 'The City School']\n",
      "['Beaconhouse', 'Excellence', 'Queen Mary', 'The City School']\n",
      "['The City School', 'Queen Mary', 'Excellence', 'Beaconhouse']\n"
     ]
    }
   ],
   "source": [
    "t = \"Total Marks : 500\"\n",
    "print(t)\n",
    "marks = [478, 370 ,435 , \"Harry Potter\", True , 8 , 34 ,5 ,6]   # this is known as list we can also add Boolean and String data type\n",
    "# here length is five but the index is 4 because index starts from 0\n",
    "print(type(marks))\n",
    "print(\"In First Monthly he took:\",marks[0],\"Marks\")\n",
    "print(\"In Second Monthly he took:\",marks[1],\"Marks\")\n",
    "print(\"In Third Monthly he took:\",marks[2],\"Marks\")\n",
    "print(marks[3])   \n",
    "print(marks[4])\n",
    "print(marks)\n",
    "print(len(marks)) # Nine\n",
    "print(marks) # nine\n",
    "print(marks[-3])  # As length is nine so 9-3=6 and the 6 item is 34\n",
    "# Check whether the element is in the list\n",
    "\n",
    "if \"Harry Potter\" in marks:\n",
    "    print(\"Yes\")\n",
    "else:\n",
    "    print(\"No\")\n",
    "# Jump Index\n",
    "if \"arry\" in \"Harry\":\n",
    "    print(\"Yes! arry is present in Harry\")\n",
    "else:\n",
    "    print(\"No arry is not present in Harry\")\n",
    "    \n",
    "# Same things apply for strings\n",
    "print(marks[1:8]) # starts from index one\n",
    "print(marks[1:8:2]) # starts from index one and 3rd number means 2 is difference\n",
    "\n",
    "# List comprehension\n",
    "\n",
    "lst = [i for i in range(10)]\n",
    "print(lst)\n",
    "\n",
    "list = [i*i for i in range(10) if i%2==0 ]\n",
    "print(list)\n",
    "\n",
    "cars = [\"Audi\" , \"Ferrari\" , \"Mercedes\" , \"Civic\"]\n",
    "print(cars[-1])   # 4-1= 3 prints the third item from the list and this method is very useful when we want to print last element of the list.\n",
    "print(cars[-2])   # 4-1= 3 prints the second last item meanwhile -3 means third last element and -4 means fourth last element and so on.\n",
    "print(cars[::-1])  # This method is very useful when we want to print the list in reversed order.\n",
    " \n",
    " \n",
    "\n",
    "schools = [\"Excellence\" , \"Queen Mary\" , \"The City School\" , \"Beaconhouse\"]\n",
    "print(sorted(schools))   # For temporarily sorted list\n",
    "st = schools.sort()\n",
    "print(schools)  # For permanent sorted list.\n",
    "schools.reverse()\n",
    "print(schools) # Reverse order"
   ]
  }
 ],
 "metadata": {
  "kernelspec": {
   "display_name": "Python 3",
   "language": "python",
   "name": "python3"
  },
  "language_info": {
   "codemirror_mode": {
    "name": "ipython",
    "version": 3
   },
   "file_extension": ".py",
   "mimetype": "text/x-python",
   "name": "python",
   "nbconvert_exporter": "python",
   "pygments_lexer": "ipython3",
   "version": "3.11.4"
  },
  "orig_nbformat": 4
 },
 "nbformat": 4,
 "nbformat_minor": 2
}
