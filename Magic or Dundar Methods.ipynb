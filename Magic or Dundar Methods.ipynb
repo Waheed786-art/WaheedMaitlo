{
 "cells": [
  {
   "cell_type": "code",
   "execution_count": 9,
   "metadata": {},
   "outputs": [
    {
     "name": "stdout",
     "output_type": "stream",
     "text": [
      "Waheed is a Programmer.\n",
      "Waheed always helps the needy people.\n",
      "Waheed is adept in Mathematics str.\n",
      "I'm senior Programmer at Microsoft.\n",
      "Warner is a good man.\n",
      "None\n",
      "2 + 8 = 10\n",
      "That Carpenter is a good man.\n",
      "Good Morning!\n",
      "17\n",
      "Hello Thanks for using this function.\n"
     ]
    }
   ],
   "source": [
    "\n",
    "from Decorators import greet\n",
    "\n",
    "\n",
    "class random:\n",
    "    def __init__(self , name):   # __init__ is a dundar method which don't need to be written or called by it's name. As you can see here..\n",
    "        self.name = name\n",
    "        print(f\"{self.name} is a Programmer.\")\n",
    "        \n",
    "    def __str__(self):   # __str__ is used to convert object into string representation.\n",
    "        return f\"{self.name} is adept in Mathematics str.\"\n",
    "    \n",
    "    def __repr__(self):\n",
    "        return f\"{self.name} is adept in Mathematics repr.\"  #printed if __str__ is not found.\n",
    "    \n",
    "    def details(self):   # this simple function needs to be called.\n",
    "        print(f\"{self.name} always helps the needy people.\")\n",
    "        \n",
    "    def __call__(self):\n",
    "        print(\"I'm senior Programmer at Microsoft.\")\n",
    "a = random(\"Waheed\")\n",
    "a.details()  # calling/invoking simple function(details).\n",
    "print(a)\n",
    "a()  # will print __call__ method.\n",
    "\n",
    "class programmer:\n",
    "    name = \"Apple\"\n",
    "    def __init__(self, name):\n",
    "        self.name = name\n",
    "    @property\n",
    "    def new_name(self):\n",
    "        return self.name\n",
    "    @new_name.setter\n",
    "    def new_name(self, new):\n",
    "        self.name = new\n",
    "    def detail(self):\n",
    "        print(f\"{self.name} is a good man.\")\n",
    "    @staticmethod\n",
    "    def add(a , b):\n",
    "        print(f\"{a} + {b} = {a+b}\")\n",
    "class web_developer(programmer):\n",
    "    def details(self):\n",
    "        super().detail()\n",
    "        \n",
    "ti = programmer(\"David\")\n",
    "ti.new_name = \"Warner\"\n",
    "print(ti.detail())\n",
    "ti.add(2 , 8)\n",
    "t3 = web_developer(\"That Carpenter\")\n",
    "t3.details()\n",
    "\n",
    "\n",
    "def new_work(source):\n",
    "    def mfg(*args, **kwargs):\n",
    "        print(\"Starting!\")\n",
    "        source(*args, **kwargs)\n",
    "        print(\"Ending\")\n",
    "    return mfg\n",
    "@greet\n",
    "def adding(a , b):\n",
    "    print(f\"{a+b}\")\n",
    "adding(8 , 9)\n",
    "    \n",
    "# new_work(adding)(5 ,6)\n",
    "# greet(adding)(5 ,6) imported from greet.\n"
   ]
  }
 ],
 "metadata": {
  "kernelspec": {
   "display_name": "Python 3",
   "language": "python",
   "name": "python3"
  },
  "language_info": {
   "codemirror_mode": {
    "name": "ipython",
    "version": 3
   },
   "file_extension": ".py",
   "mimetype": "text/x-python",
   "name": "python",
   "nbconvert_exporter": "python",
   "pygments_lexer": "ipython3",
   "version": "3.11.4"
  },
  "orig_nbformat": 4
 },
 "nbformat": 4,
 "nbformat_minor": 2
}
