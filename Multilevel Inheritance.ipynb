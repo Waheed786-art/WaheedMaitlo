{
 "cells": [
  {
   "cell_type": "code",
   "execution_count": 15,
   "metadata": {},
   "outputs": [
    {
     "name": "stdout",
     "output_type": "stream",
     "text": [
      "Name: Tommy\n",
      "Species: Dog\n",
      "Breed: Golden Retriever\n",
      "Color: Black\n",
      "Company: Amazon\n",
      "Owner: Jeff Bezos\n",
      "Name of Employee: Waheed\n",
      "F/Name: A Razzaq\n",
      "Caste: Maitlo\n"
     ]
    }
   ],
   "source": [
    "class Animal:\n",
    "    def __init__(self, name, species):\n",
    "        self.name = name\n",
    "        self.species = species\n",
    "        \n",
    "    def show_details(self):\n",
    "        print(f\"Name: {self.name}\")\n",
    "        print(f\"Species: {self.species}\")\n",
    "        \n",
    "class Dog(Animal):\n",
    "    def __init__(self, name, breed):\n",
    "        Animal.__init__(self, name, species=\"Dog\")\n",
    "        self.breed = breed\n",
    "        \n",
    "    def show_details(self):\n",
    "        Animal.show_details(self)\n",
    "        print(f\"Breed: {self.breed}\")\n",
    "        \n",
    "class GoldenRetriever(Dog):\n",
    "    def __init__(self, name, color):\n",
    "        Dog.__init__(self, name, breed=\"Golden Retriever\")\n",
    "        self.color = color\n",
    "        \n",
    "    def show_details(self):\n",
    "        Dog.show_details(self)\n",
    "        print(f\"Color: {self.color}\")\n",
    "\n",
    "o = GoldenRetriever(\"Tommy\", \"Black\")\n",
    "o.show_details()\n",
    "\n",
    "\n",
    "class Company:\n",
    "    def __init__(self, name , company , owner):\n",
    "        self.company = company\n",
    "        self.owner = owner\n",
    "        self.name = name\n",
    "    def show_detail(self):\n",
    "        print(f\"Company: {self.company}\")\n",
    "        print(f\"Owner: {self.owner}\")\n",
    "class Employee(Company):\n",
    "    def __init__(self, name , f_name):\n",
    "        Company.__init__(self, name, company = \"Amazon\" , owner = \"Jeff Bezos\")\n",
    "        self.f_name = f_name\n",
    "        self.name = name\n",
    "    def show_detail(self):\n",
    "        Company.show_detail(self)\n",
    "        print(f\"Name of Employee: {self.name}\")\n",
    "        print(f\"F/Name: {self.f_name}\")\n",
    "class more(Employee):\n",
    "    def __init__(self,name,  caste):\n",
    "        Employee.__init__(self, name = \"Waheed\", f_name = \"A Razzaq\")\n",
    "        self.caste = caste\n",
    "    def show_detail(self):\n",
    "        Employee.show_detail(self)\n",
    "        print(f\"Caste: {self.caste}\")\n",
    "                 \n",
    "\n",
    "ab = more(\"Waheed\", \"Maitlo\")\n",
    "ab.show_detail()\n",
    "\n"
   ]
  },
  {
   "cell_type": "markdown",
   "metadata": {},
   "source": [
    "                                                        Multilevel Inheritance in Python\n",
    "Multilevel inheritance is a type of inheritance in object-oriented programming where a derived class inherits from another derived class. This type of inheritance allows you to build a hierarchy of classes where one class builds upon another, leading to a more specialized class."
   ]
  }
 ],
 "metadata": {
  "kernelspec": {
   "display_name": "Python 3",
   "language": "python",
   "name": "python3"
  },
  "language_info": {
   "codemirror_mode": {
    "name": "ipython",
    "version": 3
   },
   "file_extension": ".py",
   "mimetype": "text/x-python",
   "name": "python",
   "nbconvert_exporter": "python",
   "pygments_lexer": "ipython3",
   "version": "3.11.4"
  },
  "orig_nbformat": 4
 },
 "nbformat": 4,
 "nbformat_minor": 2
}
