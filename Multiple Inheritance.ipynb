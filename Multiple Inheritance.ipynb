{
 "cells": [
  {
   "cell_type": "code",
   "execution_count": 6,
   "metadata": {},
   "outputs": [
    {
     "name": "stdout",
     "output_type": "stream",
     "text": [
      "Sushant\n",
      "Break\n",
      "The name is Sushant.\n",
      "[<class '__main__.dancer_employee'>, <class '__main__.Employee'>, <class '__main__.dancer'>, <class 'object'>]\n"
     ]
    }
   ],
   "source": [
    "\n",
    "class Employee:\n",
    "    def __init__(self, name):\n",
    "        self.name = name\n",
    "    def show(self):\n",
    "        print(f\"The name is {self.name}.\")\n",
    "class dancer:\n",
    "    def __init__(self, dance):\n",
    "        self.dance = dance\n",
    "    def show(self):\n",
    "        print(f\"The dance is {self.dance}.\")\n",
    "\n",
    "class dancer_employee(Employee, dancer):\n",
    "    def __init__(self , dance , name):\n",
    "        self.name = name \n",
    "        self.dance = dance\n",
    "        \n",
    "o = dancer_employee(\"Break\" , \"Sushant\")\n",
    "print(o.name)\n",
    "print(o.dance)\n",
    "o.show()\n",
    "print(dancer_employee.mro())    # MRO(Method Resolution Order) tells us that which things should be displayed/checked/debugged/compiled first.\n"
   ]
  }
 ],
 "metadata": {
  "kernelspec": {
   "display_name": "Python 3",
   "language": "python",
   "name": "python3"
  },
  "language_info": {
   "codemirror_mode": {
    "name": "ipython",
    "version": 3
   },
   "file_extension": ".py",
   "mimetype": "text/x-python",
   "name": "python",
   "nbconvert_exporter": "python",
   "pygments_lexer": "ipython3",
   "version": "3.11.4"
  },
  "orig_nbformat": 4
 },
 "nbformat": 4,
 "nbformat_minor": 2
}
