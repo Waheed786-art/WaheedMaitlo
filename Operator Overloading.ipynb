{
 "cells": [
  {
   "cell_type": "code",
   "execution_count": 1,
   "metadata": {},
   "outputs": [
    {
     "name": "stdout",
     "output_type": "stream",
     "text": [
      "3i + 5j + 6k\n",
      "7i + 9j + 1k\n",
      "2i + 5j + 7k\n",
      "12i + 19j + 14k\n",
      "Zahid is 20 years old.\n",
      "Ali is 21 years old.\n",
      "Zahid is younger than Ali.\n",
      "Ali is older than Zahid.\n",
      "First number is 6 and the second number is 3\n",
      "6 * 3 = 18.\n"
     ]
    }
   ],
   "source": [
    "# using __add__  Operator Overloading\n",
    "\n",
    "class vector:\n",
    "    def __init__(self, i , j , k):\n",
    "        self.i = i\n",
    "        self.j = j\n",
    "        self.k = k\n",
    "    def __str__(self):\n",
    "        return f\"{self.i}i + {self.j}j + {self.k}k\"\n",
    "    def __add__(self, x):\n",
    "       return vector(self.i + x.i , self.j + x.j , self.k + x.k) \n",
    "\n",
    "v = vector(3, 5 ,6)\n",
    "print(v.__str__())\n",
    "v2 = vector(7 , 9 ,1)\n",
    "print(v2)\n",
    "v3 = vector(2, 5 ,7)\n",
    "print(v3)\n",
    "print(v+v2+v3)\n",
    "\n",
    "#using __lt__ , __gt__, __eq__        less than , greater than , equal to   operator overloading.\n",
    "\n",
    "class greater_and_less_than:\n",
    "    def __init__(self , name , age):\n",
    "        self.name = name\n",
    "        self.age = age\n",
    "\n",
    "    def __lt__(self, lt):\n",
    "        print(f\"{self.name} is {self.age} years old.\")\n",
    "        print(f\"{lt.name} is {lt.age} years old.\")\n",
    "        if self.age < lt.age:\n",
    "            return f\"{self.name} is younger than {lt.name}.\"\n",
    "        elif lt.age < self.age:\n",
    "            return f\"{lt.name} is younger than {self.name}.\"\n",
    "    # def __gt__(self , gt):\n",
    "    def __gt__(self, gt):\n",
    "        if self.age > gt.age:\n",
    "            return f\"{self.name} is older than {gt.name}.\"\n",
    "        elif gt.age > self.age:\n",
    "            return f\"{gt.name} is older than {self.name}.\"\n",
    "p1 = greater_and_less_than(\"Ali\", 21)\n",
    "p2 = greater_and_less_than(\"Zahid\", 20)\n",
    "print(greater_and_less_than.__lt__(p2, p1))\n",
    "print(greater_and_less_than.__gt__(p2, p1))\n",
    "        \n",
    "class multiplication:\n",
    "    def __init__(self , no1):\n",
    "        self.no1 = no1\n",
    "    def __mul__(self, other):\n",
    "        print(f\"First number is {self.no1} and the second number is {other.no1}\")\n",
    "        return f\"{self.no1} * {other.no1} = {self.no1 * other.no1}.\"\n",
    "    \n",
    "number1 = multiplication(6)\n",
    "number2 = multiplication(3)\n",
    "print(multiplication.__mul__(number1, number2))\n",
    "         \n",
    "        \n",
    "                        \n",
    "            \n",
    "\n"
   ]
  },
  {
   "cell_type": "markdown",
   "metadata": {},
   "source": [
    "                                                            Operator Overloading\n",
    "Operator Overloading means giving extended meaning beyond their predefined operational meaning. For example operator + is used to add two integers as well as join two strings and merge two lists. It is achievable because ‘+’ operator is overloaded by int class and str class. You might have noticed that the same built-in operator or function shows different behavior for objects of different classes, this is called Operator Overloading. \n",
    "\n",
    "                                                How Does the Operator Overloading Actually work?\n",
    "Whenever you change the behavior of the existing operator through operator overloading, you have to redefine the special function that is invoked automatically when the operator is used with the objects. "
   ]
  }
 ],
 "metadata": {
  "kernelspec": {
   "display_name": "Python 3",
   "language": "python",
   "name": "python3"
  },
  "language_info": {
   "codemirror_mode": {
    "name": "ipython",
    "version": 3
   },
   "file_extension": ".py",
   "mimetype": "text/x-python",
   "name": "python",
   "nbconvert_exporter": "python",
   "pygments_lexer": "ipython3",
   "version": "3.11.4"
  },
  "orig_nbformat": 4
 },
 "nbformat": 4,
 "nbformat_minor": 2
}
