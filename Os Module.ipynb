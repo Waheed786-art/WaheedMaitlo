{
 "cells": [
  {
   "cell_type": "code",
   "execution_count": 1,
   "metadata": {},
   "outputs": [
    {
     "name": "stdout",
     "output_type": "stream",
     "text": [
      "['day1', 'day10', 'day2', 'day3', 'day4', 'day5', 'day6', 'day7', 'day8', 'day9', 'Tutorial1', 'Tutorial10', 'Tutorial2', 'Tutorial3', 'Tutorial4', 'Tutorial5', 'Tutorial6', 'Tutorial7', 'Tutorial8', 'Tutorial9']\n"
     ]
    }
   ],
   "source": [
    "import os\n",
    "\n",
    "if(not os.path.exists(\"data\")):\n",
    "    os.mkdir(\"data\")    #mkdir means make directory\n",
    "\n",
    "# for i in range(0 ,10):\n",
    "#     os.mkdir(f\"data/day{i+1}\")\n",
    "    \n",
    "# for i in range(0 ,10):\n",
    "#     os.rename(f\"data/day{i+1}\", f\"data/Tutorial{i+1}\")  # converted day into Tutorial by using rename.\n",
    "    \n",
    "if(not os.path.exists(\"data\")):\n",
    "    os.listdir(\"data\")\n",
    "folder = os.listdir(\"data\")\n",
    "print(folder)"
   ]
  },
  {
   "cell_type": "markdown",
   "metadata": {},
   "source": [
    "os Module in Python\n",
    "The os module in Python is a built-in library that provides functions for interacting with the operating system. It allows you to perform a wide variety of tasks, such as reading and writing files, interacting with the file system, and running system commands.\n",
    "\n",
    "Here are some common tasks you can perform with the os module:\n",
    "\n",
    "Reading and writing files The os module provides functions for opening, reading, and writing files. For example, to open a file for reading, you can use the open function:\n",
    "\n",
    "import os\n",
    "# Open the file in read-only mode\n",
    "f = os.open(\"myfile.txt\", os.O_RDONLY)\n",
    "# Read the contents of the file\n",
    "contents = os.read(f, 1024)\n",
    "# Close the file\n",
    "os.close(f)\n",
    "\n",
    "To open a file for writing, you can use the os.O_WRONLY flag:\n",
    "\n",
    "import os\n",
    "# Open the file in write-only mode\n",
    "f = os.open(\"myfile.txt\", os.O_WRONLY)\n",
    "# Write to the file\n",
    "os.write(f, b\"Hello, world!\")\n",
    "# Close the file\n",
    "os.close(f)\n",
    "\n",
    "Interacting with the file system\n",
    "The os module also provides functions for interacting with the file system. For example, you can use the os.listdir function to get a list of the files in a directory:\n",
    "\n",
    "import os\n",
    "# Get a list of the files in the current directory\n",
    "files = os.listdir(\".\")\n",
    "print(files)  # Output: ['myfile.txt', 'otherfile.txt']\n",
    "\n",
    "You can also use the os.mkdir function to create a new directory:\n",
    "\n",
    "import os\n",
    "# Create a new directory\n",
    "os.mkdir(\"newdir\")\n",
    "\n",
    "Running system commands\n",
    "Finally, the os module provides functions for running system commands. For example, you can use the os.system function to run a command and get the output:\n",
    "\n",
    "import os\n",
    "# Run the \"ls\" command and print the output\n",
    "output = os.system(\"ls\")\n",
    "print(output)  # Output: ['myfile.txt', 'otherfile.txt']\n",
    "\n",
    "You can also use the os.popen function to run a command and get the output as a file-like object:\n",
    "\n",
    "import os\n",
    "# Run the \"ls\" command and get the output as a file-like object\n",
    "f = os.popen(\"ls\")\n",
    "# Read the contents of the output\n",
    "output = f.read()\n",
    "print(output)  # Output: ['myfile.txt', 'otherfile.txt']\n",
    "# Close the file-like object\n",
    "f.close()\n",
    "\n",
    "In summary, the os module in Python is a built-in library that provides a wide variety of functions for interacting with the operating system. It allows you to perform tasks such as reading and writing files, interacting with the file system, and running system commands."
   ]
  }
 ],
 "metadata": {
  "kernelspec": {
   "display_name": "Python 3",
   "language": "python",
   "name": "python3"
  },
  "language_info": {
   "codemirror_mode": {
    "name": "ipython",
    "version": 3
   },
   "file_extension": ".py",
   "mimetype": "text/x-python",
   "name": "python",
   "nbconvert_exporter": "python",
   "pygments_lexer": "ipython3",
   "version": "3.11.4"
  },
  "orig_nbformat": 4
 },
 "nbformat": 4,
 "nbformat_minor": 2
}
