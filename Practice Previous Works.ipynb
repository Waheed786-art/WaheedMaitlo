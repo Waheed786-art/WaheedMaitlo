{
 "cells": [
  {
   "cell_type": "code",
   "execution_count": 1,
   "metadata": {},
   "outputs": [
    {
     "name": "stdout",
     "output_type": "stream",
     "text": [
      "7\n",
      "The area of trapezium is 150.0.\n"
     ]
    }
   ],
   "source": [
    "class sum_of_parallel:\n",
    "    def __init__(self):\n",
    "        self.p_1 = 10\n",
    "        self.p_2 = 15\n",
    "        self.h = int(input(\"Enter the value of height: \"))\n",
    "    @staticmethod\n",
    "    def summation(a, b):\n",
    "        print(a+b)  \n",
    "    def sum_of_para(self):\n",
    "        return (self.p_1 + self.p_2)/2\n",
    "class trapezium(sum_of_parallel):\n",
    "    def com_trapezium(self):\n",
    "        return self.h * super().sum_of_para()    \n",
    "at = trapezium()\n",
    "at.summation(2, 5)\n",
    "print(f\"The area of trapezium is {at.com_trapezium()}.\")\n",
    "\n",
    "\n"
   ]
  }
 ],
 "metadata": {
  "kernelspec": {
   "display_name": "Python 3",
   "language": "python",
   "name": "python3"
  },
  "language_info": {
   "codemirror_mode": {
    "name": "ipython",
    "version": 3
   },
   "file_extension": ".py",
   "mimetype": "text/x-python",
   "name": "python",
   "nbconvert_exporter": "python",
   "pygments_lexer": "ipython3",
   "version": "3.11.4"
  },
  "orig_nbformat": 4
 },
 "nbformat": 4,
 "nbformat_minor": 2
}
