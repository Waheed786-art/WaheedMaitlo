{
 "cells": [
  {
   "cell_type": "code",
   "execution_count": 4,
   "metadata": {},
   "outputs": [
    {
     "name": "stdout",
     "output_type": "stream",
     "text": [
      "Sound made by the animal.\n",
      "Bark!\n"
     ]
    }
   ],
   "source": [
    "class Animal:\n",
    "    def __init__(self, name , species):\n",
    "        self.name = name\n",
    "        self.species = species\n",
    "    def make_sound(self):\n",
    "        print(\"Sound made by the animal.\")\n",
    "class Dog(Animal):\n",
    "    def __init__(self, name , breed):\n",
    "        Animal.__init__(self, name , species = \"Dog\")\n",
    "        self.breed = breed\n",
    "    def make_sound(self):\n",
    "        print(\"Bark!\")\n",
    "        \n",
    "        \n",
    "a = Animal(\"Dog\" , \"Doggerman\")\n",
    "a.make_sound()\n",
    "b = Dog(\"Dog\", \"Security\")\n",
    "b.make_sound()"
   ]
  }
 ],
 "metadata": {
  "kernelspec": {
   "display_name": "Python 3",
   "language": "python",
   "name": "python3"
  },
  "language_info": {
   "codemirror_mode": {
    "name": "ipython",
    "version": 3
   },
   "file_extension": ".py",
   "mimetype": "text/x-python",
   "name": "python",
   "nbconvert_exporter": "python",
   "pygments_lexer": "ipython3",
   "version": "3.11.4"
  },
  "orig_nbformat": 4
 },
 "nbformat": 4,
 "nbformat_minor": 2
}
