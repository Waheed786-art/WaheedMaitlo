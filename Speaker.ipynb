{
 "cells": [
  {
   "cell_type": "code",
   "execution_count": 17,
   "metadata": {},
   "outputs": [
    {
     "name": "stdout",
     "output_type": "stream",
     "text": [
      "12.566370614359172\n"
     ]
    }
   ],
   "source": [
    "import win32com.client\n",
    "from math import pi\n",
    "\n",
    "speaker = win32com.client.Dispatch(\"Sapi.SpVoice\")\n",
    "\n",
    "a = int(input(\"What is your age ALI? \"))\n",
    "if a >= 18:\n",
    "    speaker.Speak(\"Yes you can drive.\")\n",
    "elif a < 18:\n",
    "    speaker.Speak(\"No you're still a child you can't drive a car.\")\n",
    "\n",
    "ask = speaker.Speak(\"Uncle: Is your father present at home?\")\n",
    "ans = speaker.Speak(\"John's Son: No, Uncle he has gone outside.\")\n",
    "ask = speaker.Speak(\"Uncle: Okay son, tell him that I enquired about him.\")\n",
    "\n",
    "speaker.Speak(\"Enter your personal information or press escape button to end the process thank you very much.\")\n",
    "\n",
    "\n"
   ]
  }
 ],
 "metadata": {
  "kernelspec": {
   "display_name": "Python 3",
   "language": "python",
   "name": "python3"
  },
  "language_info": {
   "codemirror_mode": {
    "name": "ipython",
    "version": 3
   },
   "file_extension": ".py",
   "mimetype": "text/x-python",
   "name": "python",
   "nbconvert_exporter": "python",
   "pygments_lexer": "ipython3",
   "version": "3.11.4"
  },
  "orig_nbformat": 4
 },
 "nbformat": 4,
 "nbformat_minor": 2
}
