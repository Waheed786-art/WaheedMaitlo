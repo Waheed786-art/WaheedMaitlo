{
 "cells": [
  {
   "cell_type": "code",
   "execution_count": 16,
   "metadata": {},
   "outputs": [
    {
     "name": "stdout",
     "output_type": "stream",
     "text": [
      "5\n",
      "5\n",
      "25\n",
      "15\n"
     ]
    }
   ],
   "source": [
    "class Math:\n",
    "    def __init__(self , num):\n",
    "        self.num = num\n",
    "    \n",
    "    def add_to_num(self , n):\n",
    "        self.num = self.num+n\n",
    "    \n",
    "    @staticmethod  # Decorator and this static decorator doesn't require/need self argument.\n",
    "    def add (a, b):\n",
    "        return a+b\n",
    "    \n",
    "a = Math(5)  # Here a is called Instance.\n",
    "result = a.add(2 ,3)\n",
    "print(result)\n",
    "print(a.num)\n",
    "a.add_to_num(20)\n",
    "print(a.num)\n",
    "print(a.add(7 ,8))"
   ]
  },
  {
   "cell_type": "markdown",
   "metadata": {},
   "source": [
    "Static methods in Python are methods that belong to a class rather than an instance of the class. They are defined using the @staticmethod decorator and do not have access to the instance of the class (i.e. self). They are called on the class itself, not on an instance of the class. Static methods are often used to create utility functions that don't need access to instance data.\n",
    "\n",
    "class Math:\n",
    "    @staticmethod\n",
    "    def add(a, b):\n",
    "        return a + b\n",
    "result = Math.add(1, 2)\n",
    "print(result) # Output: 3\n",
    "\n",
    "In this example, the add method is a static method of the Math class. It takes two parameters a and b and returns their sum. The method can be called on the class itself, without the need to create an instance of the class."
   ]
  }
 ],
 "metadata": {
  "kernelspec": {
   "display_name": "Python 3",
   "language": "python",
   "name": "python3"
  },
  "language_info": {
   "codemirror_mode": {
    "name": "ipython",
    "version": 3
   },
   "file_extension": ".py",
   "mimetype": "text/x-python",
   "name": "python",
   "nbconvert_exporter": "python",
   "pygments_lexer": "ipython3",
   "version": "3.11.4"
  },
  "orig_nbformat": 4
 },
 "nbformat": 4,
 "nbformat_minor": 2
}
