{
 "cells": [
  {
   "cell_type": "code",
   "execution_count": 2,
   "metadata": {},
   "outputs": [
    {
     "name": "stdout",
     "output_type": "stream",
     "text": [
      "This is Security Council (an organ of UN). (Child)\n",
      "This is UN Secretary \"Antonio Guterres. (Parent)\"\n",
      "This is UN Secretary \"Antonio Guterres. (Parent)\"\n",
      "Waheed\n",
      "I'm capital so I'm smaller than Pakistan/country.\n",
      "This is the biggest 1.\n",
      "Waheed : 4220 : Python\n",
      "{'name': 'Waheed', 'i': '4220', 'lang': 'Python'}\n",
      "Total rooms in this house are 5.\n",
      "There are total 2 members in this house.\n"
     ]
    }
   ],
   "source": [
    "class UN:\n",
    "    def __init__(self ,name):\n",
    "        self.name = name\n",
    "    def parent(self):\n",
    "        print('This is UN Secretary \"Antonio Guterres. (Parent)\"')\n",
    "        \n",
    "class organs(UN):\n",
    "    def child(self):\n",
    "        print(\"This is Security Council (an organ of UN). (Child)\")\n",
    "        super().parent()\n",
    "child_object = organs(\"Waheed\")\n",
    "child_object.child()\n",
    "child_object.parent()\n",
    "print(child_object.name)\n",
    "\n",
    "\n",
    "class Pakistan:\n",
    "    def country(self):\n",
    "        print(f\"This is the biggest 1.\")\n",
    "\n",
    "class Islamabad(Pakistan):\n",
    "    def capital(self):\n",
    "        print(\"I'm capital so I'm smaller than Pakistan/country.\")\n",
    "        super().country()\n",
    "\n",
    "t1 = Islamabad()\n",
    "t1.capital()\n",
    "# t1.country()\n",
    "\n",
    "\n",
    "class Employee:\n",
    "    def __init__(self , name , i):\n",
    "        self.name = name \n",
    "        self.i = i\n",
    "class Programmer(Employee):\n",
    "    def __init__(self , name , i ,  lang):\n",
    "        super().__init__(name , i)\n",
    "        self.lang = lang\n",
    "        \n",
    "a3 = Programmer(\"Waheed\", \"4220\" , \"Python\")\n",
    "print(f\"{a3.name} : {a3.i} : {a3.lang}\")\n",
    "print(a3.__dict__)\n",
    "\n",
    "class house:\n",
    "    def __init__(self, total , members):\n",
    "        self.total = total      \n",
    "        self.members = members\n",
    "    def members(self):\n",
    "        print(f\"There are total {self.members} members in this house.\")\n",
    "class home(house):\n",
    "    def details(self):\n",
    "        print(f\"Total rooms in this house are {self.total}.\")\n",
    "        super().members()\n",
    "        \n",
    "ft = home(5 , 2)        \n",
    "ft.details()"
   ]
  },
  {
   "cell_type": "markdown",
   "metadata": {},
   "source": [
    "Super keyword in Python\n",
    "The super() keyword in Python is used to refer to the parent class. It is especially useful when a class inherits from multiple parent classes and you want to call a method from one of the parent classes.\n",
    "\n",
    "When a class inherits from a parent class, it can override or extend the methods defined in the parent class. However, sometimes you might want to use the parent class method in the child class. This is where the super() keyword comes in handy.\n",
    "\n",
    "Here's an example of how to use the super() keyword in a simple inheritance scenario:\n",
    "\n",
    "class ParentClass:\n",
    "    def parent_method(self):\n",
    "        print(\"This is the parent method.\")\n",
    "class ChildClass(ParentClass):\n",
    "    def child_method(self):\n",
    "        print(\"This is the child method.\")\n",
    "        super().parent_method()\n",
    "child_object = ChildClass()\n",
    "child_object.child_method()\n",
    "\n",
    "Output:\n",
    "This is the child method.\n",
    "This is the parent method.\n",
    "\n",
    "In this example, we have a ParentClass with a parent_method and a ChildClass that inherits from ParentClass and overrides the child_method. When the child_method is called, it first prints \"This is the child method.\" and then calls the parent_method using the super() keyword."
   ]
  }
 ],
 "metadata": {
  "kernelspec": {
   "display_name": "Python 3",
   "language": "python",
   "name": "python3"
  },
  "language_info": {
   "codemirror_mode": {
    "name": "ipython",
    "version": 3
   },
   "file_extension": ".py",
   "mimetype": "text/x-python",
   "name": "python",
   "nbconvert_exporter": "python",
   "pygments_lexer": "ipython3",
   "version": "3.11.4"
  },
  "orig_nbformat": 4
 },
 "nbformat": 4,
 "nbformat_minor": 2
}
