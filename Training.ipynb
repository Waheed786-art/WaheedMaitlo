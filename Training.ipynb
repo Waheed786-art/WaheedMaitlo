{
 "cells": [
  {
   "cell_type": "code",
   "execution_count": 6,
   "metadata": {},
   "outputs": [
    {
     "name": "stdout",
     "output_type": "stream",
     "text": [
      "[5, 9, 19]\n",
      "36\n",
      "[8, 125, 1, 729, 6859]\n",
      "The name of the movie is Pathan and the hero of this movie is Salman Khan\n",
      "-3\n",
      "25\n"
     ]
    }
   ],
   "source": [
    "from functools import reduce\n",
    "class trapezium:\n",
    "    def __init__(self, par1, par2, height):\n",
    "        self.par1 = par1\n",
    "        self.par2 = par2\n",
    "        self.height = height\n",
    "    def sum(self):\n",
    "        return (self.par1+self.par2)/2\n",
    "class ans(trapezium):\n",
    "    def area_of_trapezium(self):\n",
    "        return super().sum()*self.height\n",
    "        \n",
    "a = ans(10 , 15 , 3) \n",
    "a.area_of_trapezium()\n",
    "\n",
    "l = [2 , 5 ,1 , 9 ,19]\n",
    "def fun(a):\n",
    "    return a>2\n",
    "d = list(filter(fun, l))\n",
    "print(d)\n",
    "\n",
    "def red(a , b):\n",
    "    return a+b\n",
    "\n",
    "n = reduce(red, l)\n",
    "print(n)\n",
    "\n",
    "cub = list(map(lambda x: x*x*x , l))\n",
    "print(cub)\n",
    "\n",
    "\n",
    "class film:\n",
    "    def __init__(self ,name, hero , heroine):\n",
    "        self.hero = hero\n",
    "        self.name = name\n",
    "        self.heroine = heroine\n",
    "    def details(self):\n",
    "        print(f\"The name of the movie is {self.name} and the hero of this movie is {self.hero}\")\n",
    "    @property\n",
    "    def new(self):\n",
    "        return \n",
    "    @new.setter\n",
    "    def new(self , new_value):\n",
    "        self.name = new_value\n",
    "    @new.setter\n",
    "    def new(self, new_value2):\n",
    "        self.hero = new_value2\n",
    "a = film(\"Pathan\" , \"Shahrukh\" , \"Katrina\")\n",
    "a.new = \"Tiger\"\n",
    "a.new = \"Salman Khan\"\n",
    "a.details()\n",
    "\n",
    "minus = int(input(\"Enter any number: \"))\n",
    "if minus > 0:\n",
    "    print(-minus)\n",
    "else:\n",
    "    print(minus)\n",
    "    \n",
    "# a^2 + b^2 + 2ab = (a+b)^2\n",
    "n1 = 2\n",
    "n2 = 3\n",
    "print((n1*n1)+(n2*n2)+(2*n1*n2))\n"
   ]
  }
 ],
 "metadata": {
  "kernelspec": {
   "display_name": "Python 3",
   "language": "python",
   "name": "python3"
  },
  "language_info": {
   "codemirror_mode": {
    "name": "ipython",
    "version": 3
   },
   "file_extension": ".py",
   "mimetype": "text/x-python",
   "name": "python",
   "nbconvert_exporter": "python",
   "pygments_lexer": "ipython3",
   "version": "3.12.2"
  },
  "orig_nbformat": 4
 },
 "nbformat": 4,
 "nbformat_minor": 2
}
