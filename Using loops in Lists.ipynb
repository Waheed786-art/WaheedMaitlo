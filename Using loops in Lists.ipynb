{
 "cells": [
  {
   "cell_type": "code",
   "execution_count": 25,
   "metadata": {},
   "outputs": [
    {
     "name": "stdout",
     "output_type": "stream",
     "text": [
      "Alice, that was a great trick!\n",
      "I want to see your next trick, Alice!\n",
      "\n",
      "Boyle, that was a great trick!\n",
      "I want to see your next trick, Boyle!\n",
      "\n",
      "Carl, that was a great trick!\n",
      "I want to see your next trick, Carl!\n",
      "\n",
      "Thank you, everyone. That was a great magic show!\n",
      "\n",
      "The name of the company is Olpers and there are total 130 employees.\n"
     ]
    }
   ],
   "source": [
    "magicians = [\"carl\" ,\"alice\", \"boyle\"]\n",
    "magicians.sort()\n",
    "for magician in magicians:\n",
    "    print(magician.title() + \", that was a great trick!\")\n",
    "    print(\"I want to see your next trick, \"+ magician.title()+ \"!\\n\")\n",
    "    \n",
    "print(\"Thank you, everyone. That was a great magic show!\\n\")\n",
    "    \n",
    "    \n",
    "class company:\n",
    "    def __init__(self, name, employees):\n",
    "        self.name = name\n",
    "        self.employees = employees\n",
    "    @classmethod\n",
    "    def work(cls , new_name):\n",
    "        return cls(new_name, 130)\n",
    "ay = company.work(\"Olpers\")\n",
    "print(f\"The name of the company is {ay.name} and there are total {ay.employees} employees.\")\n",
    "        "
   ]
  }
 ],
 "metadata": {
  "kernelspec": {
   "display_name": "Python 3",
   "language": "python",
   "name": "python3"
  },
  "language_info": {
   "codemirror_mode": {
    "name": "ipython",
    "version": 3
   },
   "file_extension": ".py",
   "mimetype": "text/x-python",
   "name": "python",
   "nbconvert_exporter": "python",
   "pygments_lexer": "ipython3",
   "version": "3.11.4"
  },
  "orig_nbformat": 4
 },
 "nbformat": 4,
 "nbformat_minor": 2
}
